{
 "cells": [
  {
   "cell_type": "markdown",
   "metadata": {},
   "source": [
    "### Download Photovoltaic Readings"
   ]
  },
  {
   "cell_type": "code",
   "execution_count": 1,
   "metadata": {},
   "outputs": [],
   "source": [
    "import gspread\n",
    "import pandas as pd\n",
    "import re\n",
    "\n",
    "gc = gspread.service_account('./config/google-config.json')\n",
    "sheet = gc.open_by_key('13NFq1c3UlPzz8JlofVTSkindOYt_A4mR1WtyGcojm_U')\n",
    "worksheets = sheet.worksheets()\n",
    "\n",
    "def has_data(worksheet):\n",
    "    title = worksheet.title\n",
    "    return re.match('\\d{1,2}', title)\n",
    "\n",
    "def persist(sheet_title, worksheet):\n",
    "    title = worksheet.title\n",
    "    records = worksheet.get_all_records()\n",
    "    df = pd.DataFrame(records)\n",
    "    df.to_csv('./data/pv/' + sheet_title + ' - ' + title + '.csv', index=False)\n",
    "\n",
    "for worksheet in worksheets:\n",
    "    if not has_data(worksheet):\n",
    "        continue\n",
    "    persist(sheet.title, worksheet)\n"
   ]
  },
  {
   "cell_type": "markdown",
   "metadata": {},
   "source": [
    "### Download Smartmeter Readings"
   ]
  },
  {
   "cell_type": "code",
   "execution_count": 2,
   "metadata": {},
   "outputs": [],
   "source": [
    "from lib.smartmeter.client import Smartmeter\n",
    "from datetime import date\n",
    "import json\n",
    "import pandas as pd\n",
    " \n",
    "config = json.load(open('config/smartmeter.json'))\n",
    "username = config['username']\n",
    "password = config['password']\n",
    "\n",
    "smartmeter = Smartmeter(username, password)\n",
    "smartmeter.login()\n",
    "data = smartmeter.historical_data(date_from=date(2023, 9, 4))\n",
    "\n",
    "messwerte = data['messwerte']\n",
    "\n",
    "df = pd.DataFrame(messwerte)\n",
    "df.to_csv('./data/sm/smartmeter.csv', index=False)"
   ]
  }
 ],
 "metadata": {
  "kernelspec": {
   "display_name": "venv",
   "language": "python",
   "name": "python3"
  },
  "language_info": {
   "codemirror_mode": {
    "name": "ipython",
    "version": 3
   },
   "file_extension": ".py",
   "mimetype": "text/x-python",
   "name": "python",
   "nbconvert_exporter": "python",
   "pygments_lexer": "ipython3",
   "version": "3.11.6"
  },
  "orig_nbformat": 4
 },
 "nbformat": 4,
 "nbformat_minor": 2
}
