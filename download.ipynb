{
 "cells": [
  {
   "cell_type": "code",
   "execution_count": 2,
   "metadata": {},
   "outputs": [],
   "source": [
    "import gspread\n",
    "import pandas as pd\n",
    "import re\n",
    "\n",
    "gc = gspread.service_account('./config/google-config.json')\n",
    "sheet = gc.open_by_key('13NFq1c3UlPzz8JlofVTSkindOYt_A4mR1WtyGcojm_U')\n",
    "worksheets = sheet.worksheets()\n",
    "\n",
    "def has_data(worksheet):\n",
    "    title = worksheet.title\n",
    "    return re.match('\\d{1,2}', title)\n",
    "\n",
    "def persist(sheet_title, worksheet):\n",
    "    title = worksheet.title\n",
    "    records = worksheet.get_all_records()\n",
    "    df = pd.DataFrame(records)\n",
    "    df.to_csv('./data/' + sheet_title + ' - ' + title + '.csv', index=False)\n",
    "\n",
    "for worksheet in worksheets:\n",
    "    if not has_data(worksheet):\n",
    "        continue\n",
    "    persist(sheet.title, worksheet)\n"
   ]
  }
 ],
 "metadata": {
  "kernelspec": {
   "display_name": "venv",
   "language": "python",
   "name": "python3"
  },
  "language_info": {
   "codemirror_mode": {
    "name": "ipython",
    "version": 3
   },
   "file_extension": ".py",
   "mimetype": "text/x-python",
   "name": "python",
   "nbconvert_exporter": "python",
   "pygments_lexer": "ipython3",
   "version": "3.11.5"
  },
  "orig_nbformat": 4
 },
 "nbformat": 4,
 "nbformat_minor": 2
}
